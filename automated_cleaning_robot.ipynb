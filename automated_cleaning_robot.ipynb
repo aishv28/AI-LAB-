{
  "nbformat": 4,
  "nbformat_minor": 0,
  "metadata": {
    "colab": {
      "provenance": []
    },
    "kernelspec": {
      "name": "python3",
      "display_name": "Python 3"
    },
    "language_info": {
      "name": "python"
    }
  },
  "cells": [
    {
      "cell_type": "code",
      "execution_count": 1,
      "metadata": {
        "colab": {
          "base_uri": "https://localhost:8080/"
        },
        "id": "jSK9CmSre3NL",
        "outputId": "3436eaa3-0ec9-4a56-98a9-bc4997953bc7"
      },
      "outputs": [
        {
          "output_type": "stream",
          "name": "stdout",
          "text": [
            "RoboCleaner is starting to clean...\n",
            "Cleaning at position (0, 0)...\n",
            "Battery level: 85%\n",
            "Cleaning at position (0, 1)...\n",
            "Battery level: 75%\n",
            "Cleaning at position (0, 2)...\n",
            "Battery level: 58%\n",
            "Cleaning at position (0, 3)...\n",
            "Battery level: 44%\n",
            "Cleaning at position (0, 4)...\n",
            "Battery level: 28%\n",
            "Moving to next row: 1\n",
            "Cleaning at position (1, 0)...\n",
            "Battery level: 8%\n",
            "Cleaning at position (1, 1)...\n",
            "Battery level: -12%\n",
            "Battery low! Returning to dock to recharge.\n",
            "RoboCleaner is docking to recharge...\n",
            "Recharge complete!\n"
          ]
        }
      ],
      "source": [
        "import random\n",
        "import time\n",
        "\n",
        "class CleaningRobot:\n",
        "    def __init__(self, name, width, height):\n",
        "        self.name = name\n",
        "        self.battery_level = 100  # Battery percentage\n",
        "        self.width = width  # Width of the cleaning area\n",
        "        self.height = height  # Height of the cleaning area\n",
        "        self.position = (0, 0)  # Starting position\n",
        "\n",
        "    def clean(self):\n",
        "        print(f\"{self.name} is starting to clean...\")\n",
        "        for row in range(self.height):\n",
        "            for col in range(self.width):\n",
        "                if self.battery_level > 0:\n",
        "                    self.position = (row, col)\n",
        "                    print(f\"Cleaning at position {self.position}...\")\n",
        "                    time.sleep(1)  # Simulate time taken to clean\n",
        "                    self.battery_level -= random.randint(10, 20)  # Consume battery\n",
        "                    print(f\"Battery level: {self.battery_level}%\")\n",
        "                else:\n",
        "                    print(\"Battery low! Returning to dock to recharge.\")\n",
        "                    self.dock()\n",
        "                    return  # Exit the cleaning loop if battery is low\n",
        "\n",
        "            # Move to the next row\n",
        "            if row < self.height - 1:\n",
        "                print(f\"Moving to next row: {row + 1}\")\n",
        "\n",
        "    def dock(self):\n",
        "        print(f\"{self.name} is docking to recharge...\")\n",
        "        time.sleep(2)  # Simulate docking time\n",
        "        self.battery_level = 100\n",
        "        print(\"Recharge complete!\")\n",
        "\n",
        "# Create an instance of the CleaningRobot\n",
        "robot = CleaningRobot(\"RoboCleaner\", width=5, height=3)\n",
        "\n",
        "# Start the cleaning process\n",
        "robot.clean()\n"
      ]
    }
  ]
}