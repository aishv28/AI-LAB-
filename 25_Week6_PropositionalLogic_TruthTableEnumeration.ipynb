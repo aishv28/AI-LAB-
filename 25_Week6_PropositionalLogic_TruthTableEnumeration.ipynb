{
  "nbformat": 4,
  "nbformat_minor": 0,
  "metadata": {
    "colab": {
      "provenance": []
    },
    "kernelspec": {
      "name": "python3",
      "display_name": "Python 3"
    },
    "language_info": {
      "name": "python"
    }
  },
  "cells": [
    {
      "cell_type": "code",
      "execution_count": 1,
      "metadata": {
        "colab": {
          "base_uri": "https://localhost:8080/"
        },
        "id": "fgX3zLwYK6dA",
        "outputId": "499fbe70-3f0d-4a8f-9671-65cfe17dedec"
      },
      "outputs": [
        {
          "output_type": "stream",
          "name": "stdout",
          "text": [
            "Does KB entail r? Yes\n",
            "Does KB entail Implies(r, p)? Yes\n",
            "Does KB entail Implies(q, r)? Yes\n"
          ]
        }
      ],
      "source": [
        "from sympy.logic.boolalg import Implies, And, Not, Or\n",
        "from sympy import symbols, simplify_logic\n",
        "from itertools import product\n",
        "\n",
        "# Define propositional variables\n",
        "p, q, r = symbols('p q r')\n",
        "\n",
        "# Define Knowledge Base (KB) and Queries\n",
        "# KB: p -> q, q -> r, p\n",
        "kb = And(Implies(p, q), Implies(q, r), p)\n",
        "\n",
        "# Queries to check\n",
        "queries = [\n",
        "    r,               # Does KB entail r?\n",
        "    Implies(r, p),   # Does KB entail r -> p?\n",
        "    Implies(q, r)    # Does KB entail q -> r?\n",
        "]\n",
        "\n",
        "def generate_truth_table(variables):\n",
        "    \"\"\"Generate truth table for a set of variables.\"\"\"\n",
        "    return list(product([False, True], repeat=len(variables)))\n",
        "\n",
        "def evaluate_expression(expr, truth_values, variables):\n",
        "    \"\"\"Evaluate the logical expression for a given set of truth values.\"\"\"\n",
        "    assignment = dict(zip(variables, truth_values))\n",
        "    return expr.subs(assignment)\n",
        "\n",
        "def check_entailment(kb, query, variables):\n",
        "    \"\"\"Check if KB entails the query using a truth table.\"\"\"\n",
        "    # Generate truth table for all variables\n",
        "    truth_table = generate_truth_table(variables)\n",
        "\n",
        "    # Check if for all possible truth assignments, when KB is True, query must also be True\n",
        "    for truth_values in truth_table:\n",
        "        kb_eval = evaluate_expression(kb, truth_values, variables)\n",
        "        query_eval = evaluate_expression(query, truth_values, variables)\n",
        "\n",
        "        if kb_eval and not query_eval:\n",
        "            return False  # If KB is True and query is False for any case, entailment fails\n",
        "\n",
        "    return True  # KB always entails the query\n",
        "\n",
        "def print_results(kb, queries, variables):\n",
        "    \"\"\"Evaluate and print the entailment results for all queries.\"\"\"\n",
        "    for query in queries:\n",
        "        result = check_entailment(kb, query, variables)\n",
        "        print(f\"Does KB entail {query}? {'Yes' if result else 'No'}\")\n",
        "\n",
        "# List of variables involved in KB and queries\n",
        "variables = [p, q, r]\n",
        "\n",
        "# Evaluate and print results\n",
        "print_results(kb, queries, variables)\n"
      ]
    }
  ]
}