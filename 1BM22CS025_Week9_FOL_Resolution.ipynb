{
  "nbformat": 4,
  "nbformat_minor": 0,
  "metadata": {
    "colab": {
      "provenance": [],
      "authorship_tag": "ABX9TyPEP1uItsaUtNCa2Aykne6j",
      "include_colab_link": true
    },
    "kernelspec": {
      "name": "python3",
      "display_name": "Python 3"
    },
    "language_info": {
      "name": "python"
    }
  },
  "cells": [
    {
      "cell_type": "markdown",
      "metadata": {
        "id": "view-in-github",
        "colab_type": "text"
      },
      "source": [
        "<a href=\"https://colab.research.google.com/github/aishv28/AI-LAB-/blob/main/1BM22CS025_Week9_FOL_Resolution.ipynb\" target=\"_parent\"><img src=\"https://colab.research.google.com/assets/colab-badge.svg\" alt=\"Open In Colab\"/></a>"
      ]
    },
    {
      "cell_type": "code",
      "execution_count": 1,
      "metadata": {
        "colab": {
          "base_uri": "https://localhost:8080/"
        },
        "id": "Bipcd47Rm9Pl",
        "outputId": "1f453394-42b0-45db-dbe7-f706cf8eb814"
      },
      "outputs": [
        {
          "output_type": "stream",
          "name": "stdout",
          "text": [
            "Welcome to the Unification Program!\n",
            "Please input two terms to unify.\n",
            "Enter the first term: f(x, a)\n",
            "Enter the second term: f(b, y)\n",
            "\n",
            "Unifying the terms: ('f', 'x', 'a') and ('f', 'b', 'y')\n",
            "\n",
            "Unification succeeded. Substitution: {'x': 'b'}\n"
          ]
        }
      ],
      "source": [
        "def is_variable(term):\n",
        "    \"\"\"Checks if a term is a variable.\"\"\"\n",
        "    return isinstance(term, str) and term[0].islower()\n",
        "\n",
        "def is_constant(term):\n",
        "    \"\"\"Checks if a term is a constant.\"\"\"\n",
        "    return isinstance(term, str) and term[0].isupper()\n",
        "\n",
        "def occurs_check(var, term):\n",
        "    \"\"\"Checks if a variable occurs in a term.\"\"\"\n",
        "    if var == term:\n",
        "        return True\n",
        "    elif isinstance(term, tuple):\n",
        "        return any(occurs_check(var, t) for t in term)\n",
        "    return False\n",
        "\n",
        "def unify(x, y, substitution):\n",
        "    \"\"\"Unifies two terms x and y with the current substitution.\"\"\"\n",
        "    if x == y:\n",
        "        return substitution\n",
        "    elif is_variable(x):\n",
        "        return unify_var(x, y, substitution)\n",
        "    elif is_variable(y):\n",
        "        return unify_var(y, x, substitution)\n",
        "    elif isinstance(x, tuple) and isinstance(y, tuple):\n",
        "        return unify(x[0], y[0], unify(x[1], y[1], substitution))\n",
        "    else:\n",
        "        raise Exception(f\"Cannot unify {x} and {y}\")\n",
        "\n",
        "def unify_var(var, term, substitution):\n",
        "    \"\"\"Handles unification when one of the terms is a variable.\"\"\"\n",
        "    if var in substitution:\n",
        "        return unify(substitution[var], term, substitution)\n",
        "    elif occurs_check(var, term):\n",
        "        raise Exception(f\"Occurs check failed: {var} occurs in {term}\")\n",
        "    else:\n",
        "        substitution[var] = term\n",
        "        return substitution\n",
        "\n",
        "def input_parse(term):\n",
        "    \"\"\"Parses input in the form of constants, variables, and function terms.\"\"\"\n",
        "    if \"(\" in term:\n",
        "        func_name = term.split(\"(\")[0]\n",
        "        arguments = term[term.find(\"(\")+1:term.find(\")\")].split(\",\")\n",
        "        arguments = [input_parse(arg.strip()) for arg in arguments]\n",
        "        return (func_name, *arguments)\n",
        "    else:\n",
        "        return term.strip()\n",
        "\n",
        "def main():\n",
        "    print(\"Welcome to the Unification Program!\")\n",
        "    print(\"Please input two terms to unify.\")\n",
        "    term1 = input(\"Enter the first term: \")\n",
        "    term2 = input(\"Enter the second term: \")\n",
        "\n",
        "    term1 = input_parse(term1)\n",
        "    term2 = input_parse(term2)\n",
        "\n",
        "    print(\"\\nUnifying the terms:\", term1, \"and\", term2)\n",
        "    substitution = {}\n",
        "\n",
        "    try:\n",
        "        result = unify(term1, term2, substitution)\n",
        "        print(\"\\nUnification succeeded. Substitution:\", result)\n",
        "    except Exception as e:\n",
        "        print(\"\\nUnification failed:\", e)\n",
        "\n",
        "if __name__ == \"__main__\":\n",
        "    main()\n"
      ]
    }
  ]
}