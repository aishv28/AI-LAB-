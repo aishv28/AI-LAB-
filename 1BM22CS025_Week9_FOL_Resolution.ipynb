{
  "nbformat": 4,
  "nbformat_minor": 0,
  "metadata": {
    "colab": {
      "provenance": [],
      "authorship_tag": "ABX9TyObz39pAts07315d77WgacZ",
      "include_colab_link": true
    },
    "kernelspec": {
      "name": "python3",
      "display_name": "Python 3"
    },
    "language_info": {
      "name": "python"
    }
  },
  "cells": [
    {
      "cell_type": "markdown",
      "metadata": {
        "id": "view-in-github",
        "colab_type": "text"
      },
      "source": [
        "<a href=\"https://colab.research.google.com/github/aishv28/AI-LAB-/blob/main/1BM22CS025_Week9_FOL_Resolution.ipynb\" target=\"_parent\"><img src=\"https://colab.research.google.com/assets/colab-badge.svg\" alt=\"Open In Colab\"/></a>"
      ]
    },
    {
      "cell_type": "code",
      "source": [
        "from sympy import symbols\n",
        "from sympy.logic.boolalg import And, Or, Not, Implies\n",
        "from sympy.logic import to_cnf\n",
        "\n",
        "# Define symbols for Leela and Oshin\n",
        "Leela, Oshin = symbols('Leela Oshin')\n",
        "\n",
        "# Define predicates\n",
        "Mother = symbols('Mother')\n",
        "Alive = symbols('Alive')\n",
        "Parent = symbols('Parent')\n",
        "Older = symbols('Older')\n",
        "\n",
        "# Facts\n",
        "Mother_Leela_Oshin = Mother.subs({Mother: (Leela, Oshin)})  # Mother(Leela, Oshin)\n",
        "Alive_Leela = Alive.subs({Alive: (Leela,)})  # Alive(Leela)\n",
        "\n",
        "# Rules\n",
        "# Rule 1: Mother(x, y) => Parent(x, y)\n",
        "rule1 = Implies(Mother, Parent)\n",
        "\n",
        "# Rule 2: (Parent(x, y) AND Alive(x)) => Older(x, y)\n",
        "rule2 = Implies(And(Parent, Alive), Older)\n",
        "\n",
        "# To prove: Older(Leela, Oshin)\n",
        "\n",
        "# Convert the rules to CNF (Conjunctive Normal Form)\n",
        "rule1_cnf = to_cnf(rule1, True)\n",
        "rule2_cnf = to_cnf(rule2, True)\n",
        "\n",
        "# Convert the facts to CNF\n",
        "fact1 = Mother_Leela_Oshin  # Mother(Leela, Oshin)\n",
        "fact2 = Alive_Leela  # Alive(Leela)\n",
        "\n",
        "# The goal is to prove: Older(Leela, Oshin)\n",
        "goal = Older.subs({Older: (Leela, Oshin)})\n",
        "\n",
        "# Step 1: Convert the facts and rules to CNF\n",
        "print(\"Rule 1 in CNF:\", rule1_cnf)\n",
        "print(\"Rule 2 in CNF:\", rule2_cnf)\n",
        "\n",
        "# Step 2: Check if the negation of the goal can be derived (for proof by contradiction)\n",
        "goal_negation = Not(goal)\n",
        "\n",
        "# Step 3: Simple resolution function to prove the goal\n",
        "def resolution(facts, rules, goal_negation):\n",
        "    clauses = facts + rules  # Start with the facts and rules\n",
        "    clauses.append(goal_negation)  # Add the negation of the goal\n",
        "\n",
        "    # Simplify and resolve the clauses using CNF\n",
        "    resolved_clauses = set(clauses)\n",
        "    prev_clauses = None\n",
        "\n",
        "    while resolved_clauses != prev_clauses:\n",
        "        prev_clauses = set(resolved_clauses)\n",
        "        new_clauses = set()\n",
        "\n",
        "        # Try to resolve pairs of clauses\n",
        "        for clause1 in resolved_clauses:\n",
        "            for clause2 in resolved_clauses:\n",
        "                if clause1 != clause2:\n",
        "                    # Attempt resolution of the two clauses\n",
        "                    resolved_clause = resolve(clause1, clause2)\n",
        "                    if resolved_clause:\n",
        "                        new_clauses.add(resolved_clause)\n",
        "\n",
        "        # If we found any new clauses, add them to the resolved clauses\n",
        "        if new_clauses:\n",
        "            resolved_clauses.update(new_clauses)\n",
        "\n",
        "        # If no new clauses are generated and the negation of the goal is still there, resolution fails\n",
        "        if goal_negation in resolved_clauses:\n",
        "            return False  # Proof failed\n",
        "\n",
        "    return goal_negation not in resolved_clauses\n",
        "\n",
        "# Resolve function: if clauses are negations of each other, resolve them\n",
        "def resolve(clause1, clause2):\n",
        "    if clause1 == Not(clause2) or clause2 == Not(clause1):\n",
        "        return True  # Resolved: contradiction is found\n",
        "    return False\n",
        "\n",
        "# Perform the resolution\n",
        "facts = [fact1, fact2]\n",
        "rules = [rule1_cnf, rule2_cnf]\n",
        "\n",
        "# Perform the resolution and check if the goal is provable\n",
        "result = resolution(facts, rules, goal_negation)\n",
        "if result:\n",
        "    print(f\"Successfully proved: {goal} using resolution.\")\n",
        "else:\n",
        "    print(f\"Failed to prove: {goal} using resolution.\")\n"
      ],
      "metadata": {
        "colab": {
          "base_uri": "https://localhost:8080/"
        },
        "id": "s46BGfIppeUN",
        "outputId": "1072eafb-d01e-4a59-de48-864c09afddc4"
      },
      "execution_count": 19,
      "outputs": [
        {
          "output_type": "stream",
          "name": "stdout",
          "text": [
            "Rule 1 in CNF: Parent | ~Mother\n",
            "Rule 2 in CNF: Older | ~Alive | ~Parent\n",
            "Failed to prove: (Leela, Oshin) using resolution.\n"
          ]
        }
      ]
    }
  ]
}