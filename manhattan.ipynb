{
  "nbformat": 4,
  "nbformat_minor": 0,
  "metadata": {
    "colab": {
      "provenance": []
    },
    "kernelspec": {
      "name": "python3",
      "display_name": "Python 3"
    },
    "language_info": {
      "name": "python"
    }
  },
  "cells": [
    {
      "cell_type": "code",
      "execution_count": 1,
      "metadata": {
        "colab": {
          "base_uri": "https://localhost:8080/"
        },
        "id": "eZGKRS_zcWoG",
        "outputId": "0782ea18-b35f-4fb0-fac2-fe9c9ac73731"
      },
      "outputs": [
        {
          "output_type": "stream",
          "name": "stdout",
          "text": [
            "Solution Found:\n",
            "[1, 2, 3]\n",
            "[4, 0, 5]\n",
            "[6, 7, 8]\n",
            "\n",
            "[1, 2, 3]\n",
            "[0, 4, 5]\n",
            "[6, 7, 8]\n",
            "\n",
            "[0, 2, 3]\n",
            "[1, 4, 5]\n",
            "[6, 7, 8]\n",
            "\n",
            "[2, 0, 3]\n",
            "[1, 4, 5]\n",
            "[6, 7, 8]\n",
            "\n",
            "[2, 3, 0]\n",
            "[1, 4, 5]\n",
            "[6, 7, 8]\n",
            "\n",
            "[2, 3, 5]\n",
            "[1, 4, 0]\n",
            "[6, 7, 8]\n",
            "\n",
            "[2, 3, 5]\n",
            "[1, 0, 4]\n",
            "[6, 7, 8]\n",
            "\n",
            "[2, 0, 5]\n",
            "[1, 3, 4]\n",
            "[6, 7, 8]\n",
            "\n",
            "[0, 2, 5]\n",
            "[1, 3, 4]\n",
            "[6, 7, 8]\n",
            "\n",
            "[1, 2, 5]\n",
            "[0, 3, 4]\n",
            "[6, 7, 8]\n",
            "\n",
            "[1, 2, 5]\n",
            "[3, 0, 4]\n",
            "[6, 7, 8]\n",
            "\n",
            "[1, 2, 5]\n",
            "[3, 4, 0]\n",
            "[6, 7, 8]\n",
            "\n",
            "[1, 2, 0]\n",
            "[3, 4, 5]\n",
            "[6, 7, 8]\n",
            "\n",
            "[1, 0, 2]\n",
            "[3, 4, 5]\n",
            "[6, 7, 8]\n",
            "\n",
            "[0, 1, 2]\n",
            "[3, 4, 5]\n",
            "[6, 7, 8]\n",
            "\n"
          ]
        },
        {
          "output_type": "execute_result",
          "data": {
            "text/plain": [
              "14"
            ]
          },
          "metadata": {},
          "execution_count": 1
        }
      ],
      "source": [
        "def manhattan_distance(state, goal):\n",
        "    distance = 0\n",
        "    for i in range(3):\n",
        "        for j in range(3):\n",
        "            if state[i][j] != 0:\n",
        "                goal_x, goal_y = [(x, y) for x in range(3) for y in range(3) if goal[x][y] == state[i][j]][0]\n",
        "                distance += abs(i - goal_x) + abs(j - goal_y)\n",
        "    return distance\n",
        "\n",
        "def get_neighbors(state):\n",
        "    neighbors = []\n",
        "    blank = [(i, j) for i in range(3) for j in range(3) if state[i][j] == 0][0]\n",
        "    possible_moves = [(-1, 0), (1, 0), (0, -1), (0, 1)]\n",
        "    x, y = blank\n",
        "\n",
        "    for dx, dy in possible_moves:\n",
        "        nx, ny = x + dx, y + dy\n",
        "        if 0 <= nx < 3 and 0 <= ny < 3:\n",
        "            new_state = [row[:] for row in state]\n",
        "            new_state[x][y], new_state[nx][ny] = new_state[nx][ny], new_state[x][y]\n",
        "            neighbors.append(new_state)\n",
        "\n",
        "    return neighbors\n",
        "\n",
        "def print_path(path):\n",
        "    for state in path:\n",
        "        for row in state:\n",
        "            print(row)\n",
        "        print()\n",
        "\n",
        "def astar_manhattan(start, goal):\n",
        "    open_list = [(start, 0, [])]\n",
        "    visited = set()\n",
        "\n",
        "    while open_list:\n",
        "        current, g, path = open_list.pop(0)\n",
        "\n",
        "        path = path + [current]\n",
        "\n",
        "        if current == goal:\n",
        "            print(\"Solution Found:\")\n",
        "            print_path(path)\n",
        "            return g\n",
        "\n",
        "        for neighbor in get_neighbors(current):\n",
        "            neighbor_tuple = tuple(map(tuple, neighbor))\n",
        "            if neighbor_tuple not in visited:\n",
        "                visited.add(neighbor_tuple)\n",
        "                h = manhattan_distance(neighbor, goal)\n",
        "                open_list.append((neighbor, g + 1, path))\n",
        "\n",
        "        open_list.sort(key=lambda x: x[1] + manhattan_distance(x[0], goal))\n",
        "\n",
        "    return -1\n",
        "\n",
        "start = [[1, 2, 3], [4, 0, 5], [6, 7, 8]]\n",
        "goal = [[0,1, 2], [3,4, 5], [6,7,8]]\n",
        "astar_manhattan(start, goal)"
      ]
    }
  ]
}