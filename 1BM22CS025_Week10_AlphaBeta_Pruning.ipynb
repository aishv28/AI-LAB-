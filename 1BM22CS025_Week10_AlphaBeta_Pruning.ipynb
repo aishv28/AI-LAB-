{
  "nbformat": 4,
  "nbformat_minor": 0,
  "metadata": {
    "colab": {
      "provenance": [],
      "authorship_tag": "ABX9TyM4S+gViRZGV42nowBiHrC0",
      "include_colab_link": true
    },
    "kernelspec": {
      "name": "python3",
      "display_name": "Python 3"
    },
    "language_info": {
      "name": "python"
    }
  },
  "cells": [
    {
      "cell_type": "markdown",
      "metadata": {
        "id": "view-in-github",
        "colab_type": "text"
      },
      "source": [
        "<a href=\"https://colab.research.google.com/github/aishv28/AI-LAB-/blob/main/1BM22CS025_Week10_AlphaBeta_Pruning.ipynb\" target=\"_parent\"><img src=\"https://colab.research.google.com/assets/colab-badge.svg\" alt=\"Open In Colab\"/></a>"
      ]
    },
    {
      "cell_type": "code",
      "execution_count": 2,
      "metadata": {
        "colab": {
          "base_uri": "https://localhost:8080/"
        },
        "id": "pSRZH9qEkyXc",
        "outputId": "4c8fde46-14d8-4e54-8861-9792ae8f2fa3"
      },
      "outputs": [
        {
          "output_type": "stream",
          "name": "stdout",
          "text": [
            "Depth 0 - Maximizing Player (alpha=-1000, beta=1000)\n",
            "Depth 1 - Minimizing Player (alpha=-1000, beta=1000)\n",
            "Depth 2 - Maximizing Player (alpha=-1000, beta=1000)\n",
            "Depth 3 - Leaf node reached. Returning value 10 at node index 0\n",
            "Depth 2 - Maximizing Player: Best so far 10 (alpha=10)\n",
            "Depth 3 - Leaf node reached. Returning value 9 at node index 1\n",
            "Depth 2 - Maximizing Player: Best so far 10 (alpha=10)\n",
            "Depth 1 - Minimizing Player: Best so far 10 (beta=10)\n",
            "Depth 2 - Maximizing Player (alpha=-1000, beta=10)\n",
            "Depth 3 - Leaf node reached. Returning value 14 at node index 2\n",
            "Depth 2 - Maximizing Player: Best so far 14 (alpha=14)\n",
            "Depth 2 - Pruning branch (beta <= alpha) with alpha=14, beta=10\n",
            "Depth 1 - Minimizing Player: Best so far 10 (beta=10)\n",
            "Depth 0 - Maximizing Player: Best so far 10 (alpha=10)\n",
            "Depth 1 - Minimizing Player (alpha=10, beta=1000)\n",
            "Depth 2 - Maximizing Player (alpha=10, beta=1000)\n",
            "Depth 3 - Leaf node reached. Returning value 5 at node index 4\n",
            "Depth 2 - Maximizing Player: Best so far 5 (alpha=10)\n",
            "Depth 3 - Leaf node reached. Returning value 4 at node index 5\n",
            "Depth 2 - Maximizing Player: Best so far 5 (alpha=10)\n",
            "Depth 1 - Minimizing Player: Best so far 5 (beta=5)\n",
            "Depth 1 - Pruning branch (beta <= alpha) with alpha=10, beta=5\n",
            "Depth 0 - Maximizing Player: Best so far 10 (alpha=10)\n",
            "\n",
            "The optimal value is: 10\n",
            "\n",
            "AishwaryaVijay\n",
            "1BM22CS025\n"
          ]
        }
      ],
      "source": [
        "MAX, MIN = 1000, -1000\n",
        "\n",
        "def minimax(depth, nodeIndex, maximizingPlayer, values, alpha, beta):\n",
        "    # If we've reached the leaf node (depth == 3), return the value at the node\n",
        "    if depth == 3:\n",
        "        print(f\"Depth {depth} - Leaf node reached. Returning value {values[nodeIndex]} at node index {nodeIndex}\")\n",
        "        return values[nodeIndex]\n",
        "\n",
        "    # Maximizing player\n",
        "    if maximizingPlayer:\n",
        "        best = MIN\n",
        "        print(f\"Depth {depth} - Maximizing Player (alpha={alpha}, beta={beta})\")\n",
        "\n",
        "        for i in range(0, 2):  # We assume binary tree, so two children per node\n",
        "            val = minimax(depth + 1, nodeIndex * 2 + i, False, values, alpha, beta)  # Call minimax recursively for the child\n",
        "            best = max(best, val)\n",
        "            alpha = max(alpha, best)\n",
        "\n",
        "            # Print the decision making process\n",
        "            print(f\"Depth {depth} - Maximizing Player: Best so far {best} (alpha={alpha})\")\n",
        "\n",
        "            if beta <= alpha:  # Prune if alpha >= beta\n",
        "                print(f\"Depth {depth} - Pruning branch (beta <= alpha) with alpha={alpha}, beta={beta}\")\n",
        "                break\n",
        "\n",
        "        return best\n",
        "\n",
        "    # Minimizing player\n",
        "    else:\n",
        "        best = MAX\n",
        "        print(f\"Depth {depth} - Minimizing Player (alpha={alpha}, beta={beta})\")\n",
        "\n",
        "        for i in range(0, 2):  # We assume binary tree, so two children per node\n",
        "            val = minimax(depth + 1, nodeIndex * 2 + i, True, values, alpha, beta)  # Call minimax recursively for the child\n",
        "            best = min(best, val)\n",
        "            beta = min(beta, best)\n",
        "\n",
        "            # Print the decision making process\n",
        "            print(f\"Depth {depth} - Minimizing Player: Best so far {best} (beta={beta})\")\n",
        "\n",
        "            if beta <= alpha:  # Prune if alpha >= beta\n",
        "                print(f\"Depth {depth} - Pruning branch (beta <= alpha) with alpha={alpha}, beta={beta}\")\n",
        "                break\n",
        "\n",
        "        return best\n",
        "\n",
        "if __name__ == \"__main__\":\n",
        "    values = [10, 9, 14, 18, 5, 4, 50, 3]  # The values at the leaf nodes of the tree\n",
        "    print(\"\\nThe optimal value is:\", minimax(0, 0, True, values, MIN, MAX))  # Call the minimax function\n",
        "\n",
        "print(\"\\nAishwaryaVijay\")\n",
        "print(\"1BM22CS025\")"
      ]
    }
  ]
}